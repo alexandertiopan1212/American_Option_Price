{
 "cells": [
  {
   "cell_type": "markdown",
   "id": "7308701f",
   "metadata": {},
   "source": [
    "# Predicting Asset Option Price (American Binomial Options Method)"
   ]
  },
  {
   "cell_type": "markdown",
   "id": "751341ab",
   "metadata": {},
   "source": [
    "### Project Overview\n",
    "In this case ABC company uses binomial American call option pricing to determine the fair value of Company XYZ's participation rights in the X project. "
   ]
  },
  {
   "cell_type": "markdown",
   "id": "ce92c5dc",
   "metadata": {},
   "source": [
    "#### What is Options?\n",
    "\n",
    "The term option refers to a financial instrument that is based on the value of underlying securities such as stocks, indexes, and exchange traded funds (ETFs). An options contract offers the buyer the opportunity to buy or sell—depending on the type of contract they hold—the underlying asset. Unlike futures, the holder is not required to buy or sell the asset if they decide against it. Each options contract will have a specific expiration date by which the holder must exercise their option. The stated price on an option is known as the strike price.\n",
    "\n",
    "#### What is American Options?\n",
    "An American option, aka an American-style option, is a version of an options contract that allows holders to exercise the option rights at any time before and including the day of expiration. It contrasts with another type of option, called the European option, that only allows execution on the day of expiration.\n",
    "\n",
    "#### The formula for calculation the option price is based on several parameters:\n",
    "\n",
    "* Budgeted Capex Cost = Base Price * (1 + Interest) * FX Adjustment * Incentives * Nameplate Capacity\n",
    "* Excersie Price = (Budgeted Capex Cost - Capex Loan - Accrued Capex Cost) - First PR Deduction\n",
    "* Option Price = max[Underlying Asset Value - Excersie Price, 0]\n",
    "* Valuation Date = Mechanical Completion Date\n",
    "* Cut Off Date = 14 Feb 2024 (assumption)"
   ]
  },
  {
   "cell_type": "markdown",
   "id": "65019e27",
   "metadata": {},
   "source": [
    "### Business Understanding\n",
    "\n",
    "We note that ABC assumes that the asset price of X can either up or down and has a terminal value. However, based on information from XYZ management, the X project has a duration of only **20 years**, making it unlikely for the project to have a terminal value. Additionally, the stock price of the X project is likely to decline over time, as future cash flows obtained by XYZ decrease."
   ]
  },
  {
   "cell_type": "markdown",
   "id": "7513b253",
   "metadata": {},
   "source": [
    "### Libraries"
   ]
  },
  {
   "cell_type": "code",
   "execution_count": 1,
   "id": "a0789849",
   "metadata": {},
   "outputs": [],
   "source": [
    "import pandas as pd\n",
    "import numpy as np"
   ]
  },
  {
   "cell_type": "markdown",
   "id": "1805bd1f",
   "metadata": {},
   "source": [
    "### Inputs and Assumptions"
   ]
  },
  {
   "cell_type": "markdown",
   "id": "bbb19e1e",
   "metadata": {},
   "source": [
    "Due to the XYZ management, the participating right is set to 5 years. During this duration ABC has the option to buy the underlying asset."
   ]
  },
  {
   "cell_type": "code",
   "execution_count": 2,
   "id": "7d5b7c41",
   "metadata": {},
   "outputs": [],
   "source": [
    "period = 5 # participating right duration in years\n",
    "numberofDays = 252 * period #252 trading days each year (assumptions)"
   ]
  },
  {
   "cell_type": "markdown",
   "id": "58bac3a2",
   "metadata": {},
   "source": [
    "The parameters to determine the budgeted capex cost of Project X are adjusted every 6 months during the participation right. Therefore, we need to create a 6-month array before assigning the parameters into the daily array."
   ]
  },
  {
   "cell_type": "code",
   "execution_count": 3,
   "id": "b32d43f2",
   "metadata": {},
   "outputs": [],
   "source": [
    "# 6 month parameters based on definitive agreement\n",
    "basePrice_6month          = [29000,    29000,    29000,    29000,     29000,     29000,      29000,      29000,      29000,      29000,      29000  ]\n",
    "interest_6month           = [0.00,     0.04,     0.08,     0.12,      0.16,      0.20,       0.24,       0.28,       0.32,       0.36,       0.40   ]\n",
    "fixAdjustment_6month      = [1.0203,   1.0203,   1.0217,   1.0217,    1.0217,    1.0217,     1.0217,     1.0217,     1.0217,     1.0217,     1.0217 ]\n",
    "incentives_6month         = [0,        0,        0.05,     0.05,      0.10,      0.10,       0.10,       0.10,       0.05,       0.05,       0.05   ]\n",
    "nameplateCapacity_6month  = [120000,   120000,   120000,   120000,    120000,    120000,     120000,     120000,     120000,     120000,     120000 ]\n",
    "capexLoan_6month          = [0,        2096,     1796,     1497,      1197,      898,        599,        299,        0,          0,          0      ]\n",
    "accruedCapex_6month       = [10,       10,       10,       10,        10,        10,         10,         10,         10,         10,         10     ]\n",
    "firstprDeduction_6month   = [12.26,    12.26,    12.26,    12.26,     12.26,     12.26,      12.26,      12.26,      12.26,      12.26,      12.26  ]"
   ]
  },
  {
   "cell_type": "markdown",
   "id": "fb62403b",
   "metadata": {},
   "source": [
    "From this 6-month information, we generate the daily array"
   ]
  },
  {
   "cell_type": "code",
   "execution_count": 4,
   "id": "8cc2dd9f",
   "metadata": {},
   "outputs": [],
   "source": [
    "# initialize daily parameters\n",
    "basePrice = np.zeros(numberofDays+1)\n",
    "interest = np.zeros(numberofDays+1)\n",
    "fxAdjustment = np.zeros(numberofDays+1)\n",
    "incentives = np.zeros(numberofDays+1)\n",
    "nameplateCapacity = np.zeros(numberofDays+1)\n",
    "capexLoan = np.zeros(numberofDays+1)\n",
    "accruedCapex = np.zeros(numberofDays+1)\n",
    "firstprDeduction = np.zeros(numberofDays+1)"
   ]
  },
  {
   "cell_type": "code",
   "execution_count": 5,
   "id": "fea52d3b",
   "metadata": {},
   "outputs": [],
   "source": [
    "def sixmonthToDaily(dailyArray,sixmonthArray):\n",
    "  # convert from 6-month period to daily period\n",
    "  j = 0\n",
    "  for i in range(len(dailyArray)):\n",
    "    if i>0 and (i % (6 * 21) == 0):\n",
    "      j = j + 1\n",
    "    dailyArray[i] = sixmonthArray[j]\n",
    "  return dailyArray"
   ]
  },
  {
   "cell_type": "code",
   "execution_count": 6,
   "id": "74f01bf4",
   "metadata": {},
   "outputs": [],
   "source": [
    "# caculate full daily parameters\n",
    "basePrice = sixmonthToDaily(basePrice,basePrice_6month)\n",
    "interest = sixmonthToDaily(interest,interest_6month)\n",
    "fxAdjustment = sixmonthToDaily(fxAdjustment,fixAdjustment_6month)\n",
    "incentives = sixmonthToDaily(incentives,incentives_6month)\n",
    "nameplateCapacity = sixmonthToDaily(nameplateCapacity,nameplateCapacity_6month)\n",
    "capexLoan = sixmonthToDaily(capexLoan,capexLoan_6month)\n",
    "accruedCapex = sixmonthToDaily(accruedCapex,accruedCapex_6month)\n",
    "firstprDeduction = sixmonthToDaily(firstprDeduction,firstprDeduction_6month)"
   ]
  },
  {
   "cell_type": "markdown",
   "id": "2a3fbbb0",
   "metadata": {},
   "source": [
    "The budgeted capex cost and exercise price are determined based on the formula defined in the agreement."
   ]
  },
  {
   "cell_type": "code",
   "execution_count": 7,
   "id": "df0bb2cc",
   "metadata": {},
   "outputs": [
    {
     "name": "stdout",
     "output_type": "stream",
     "text": [
      "Budgeted Capex in Million USD: [3550.644   3550.644   3550.644   ... 5009.50176 5009.50176 5151.7224 ]\n",
      "Exercise Price in Million USD: [1058.5152   1058.5152   1058.5152   ... 1496.172528 1496.172528\n",
      " 1538.83872 ]\n"
     ]
    }
   ],
   "source": [
    "# calculate budgeted capex\n",
    "budgetedCapex = basePrice * ((np.ones(numberofDays+1) + interest) * fxAdjustment + incentives) * nameplateCapacity # based on definitive agreement\n",
    "budgetedCapex = budgetedCapex / 1e6 # convert to million usd   \n",
    "\n",
    "print(f\"Budgeted Capex in Million USD: {budgetedCapex}\")\n",
    "\n",
    "# calculate exercise price\n",
    "exercisePrice = budgetedCapex - capexLoan - accruedCapex - firstprDeduction\n",
    "exercisePrice = 0.3 * exercisePrice # 30% of underlying asset will be traded based on definitive agreement\n",
    "\n",
    "print(f\"Exercise Price in Million USD: {exercisePrice}\")"
   ]
  },
  {
   "cell_type": "markdown",
   "id": "dcc738b6",
   "metadata": {},
   "source": [
    "### Calculate Option Price"
   ]
  },
  {
   "cell_type": "code",
   "execution_count": 8,
   "id": "2e772ae0",
   "metadata": {},
   "outputs": [],
   "source": [
    "# option price parameters\n",
    "volatility = 0.5282\n",
    "rf = 0.0438 # risk free rate\n",
    "dt = period / numberofDays # delta time\n",
    "underlyingAsset0 = 3683.1 * 0.3 # 30% of underlying asset will be traded based on definitive agreement\n",
    "\n",
    "up = np.exp(volatility * np.sqrt(dt))\n",
    "down = 1 / up\n",
    "pu = (np.exp(rf * dt) - down) / (up - down) # probability up\n",
    "pd = 1 - pu # probability down"
   ]
  },
  {
   "cell_type": "code",
   "execution_count": 9,
   "id": "8bf06ef8",
   "metadata": {},
   "outputs": [],
   "source": [
    "# initialize option price and underlying asset price\n",
    "optionPrice = np.zeros((numberofDays+1, numberofDays+1))\n",
    "underlyingAsset = np.zeros((numberofDays+1, numberofDays+1))"
   ]
  },
  {
   "cell_type": "code",
   "execution_count": 10,
   "id": "df8538b4",
   "metadata": {},
   "outputs": [
    {
     "name": "stdout",
     "output_type": "stream",
     "text": [
      "Option Price: 710.0146079070705 million USD\n"
     ]
    }
   ],
   "source": [
    "# calculate option price and underlying asset price movement\n",
    "for j in range(numberofDays + 1):\n",
    "  underlyingAsset[j, numberofDays] = underlyingAsset0 * (up ** (numberofDays - j)) * (down ** j)\n",
    "\n",
    "for i in range(numberofDays - 1, -1, -1):\n",
    "  for j in range(i + 1):\n",
    "    underlyingAsset[j, i] = underlyingAsset[j, i + 1] / up\n",
    "    \n",
    "for j in range(numberofDays + 1):\n",
    "  optionPrice[j, numberofDays] = max(0, underlyingAsset[j, numberofDays] - exercisePrice[j])\n",
    "\n",
    "for i in range(numberofDays - 1, -1, -1):\n",
    "  for j in range(i + 1):\n",
    "    optionPrice[j, i] = max(0, underlyingAsset[j, i] - exercisePrice[j], np.exp(-rf * dt) * (pu * optionPrice[j, i + 1] + (1 - pu) * optionPrice[j + 1, i + 1]))\n",
    "\n",
    "\n",
    "print(f\"Option Price: {optionPrice[0][0]} million USD\")"
   ]
  },
  {
   "cell_type": "markdown",
   "id": "d62d56fa",
   "metadata": {},
   "source": [
    "Based on the binomial american option calculation, the option price of the underlying asset during participating right is **USD 710 Million**"
   ]
  },
  {
   "cell_type": "code",
   "execution_count": null,
   "id": "fddeee70",
   "metadata": {},
   "outputs": [],
   "source": []
  }
 ],
 "metadata": {
  "kernelspec": {
   "display_name": "Python 3 (ipykernel)",
   "language": "python",
   "name": "python3"
  },
  "language_info": {
   "codemirror_mode": {
    "name": "ipython",
    "version": 3
   },
   "file_extension": ".py",
   "mimetype": "text/x-python",
   "name": "python",
   "nbconvert_exporter": "python",
   "pygments_lexer": "ipython3",
   "version": "3.11.5"
  }
 },
 "nbformat": 4,
 "nbformat_minor": 5
}
